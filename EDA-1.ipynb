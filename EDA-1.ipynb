{
 "cells": [
  {
   "cell_type": "code",
   "execution_count": 10,
   "id": "f7fc7499-d113-4f8a-b4c0-2d64dc433961",
   "metadata": {
    "collapsed": true,
    "jupyter": {
     "outputs_hidden": true
    },
    "tags": []
   },
   "outputs": [
    {
     "name": "stdout",
     "output_type": "stream",
     "text": [
      "Collecting package metadata (current_repodata.json): done\n",
      "Solving environment: failed with initial frozen solve. Retrying with flexible solve.\n",
      "Solving environment: failed with repodata from current_repodata.json, will retry with next repodata source.\n",
      "Collecting package metadata (repodata.json): done\n",
      "Solving environment: done\n",
      "\n",
      "\n",
      "==> WARNING: A newer version of conda exists. <==\n",
      "  current version: 4.10.3\n",
      "  latest version: 23.1.0\n",
      "\n",
      "Please update conda by running\n",
      "\n",
      "    $ conda update -n base conda\n",
      "\n",
      "\n",
      "\n",
      "## Package Plan ##\n",
      "\n",
      "  environment location: /home/studio-lab-user/.conda/envs/default\n",
      "\n",
      "  added / updated specs:\n",
      "    - matplotlib\n",
      "\n",
      "\n",
      "The following packages will be downloaded:\n",
      "\n",
      "    package                    |            build\n",
      "    ---------------------------|-----------------\n",
      "    cycler-0.11.0              |     pyhd8ed1ab_0          10 KB  conda-forge\n",
      "    freetype-2.12.1            |       hca18f0e_1         611 KB  conda-forge\n",
      "    kiwisolver-1.4.4           |   py39hf939315_1          76 KB  conda-forge\n",
      "    lcms2-2.15                 |       haa2dc70_1         236 KB  conda-forge\n",
      "    lerc-4.0.0                 |       h27087fc_0         275 KB  conda-forge\n",
      "    libdeflate-1.17            |       h0b41bf4_0          63 KB  conda-forge\n",
      "    libjpeg-turbo-2.1.5.1      |       h0b41bf4_0         479 KB  conda-forge\n",
      "    libpng-1.6.39              |       h753d276_0         276 KB  conda-forge\n",
      "    libtiff-4.5.0              |       hddfeb54_5         397 KB  conda-forge\n",
      "    libwebp-base-1.2.4         |       h166bdaf_0         404 KB  conda-forge\n",
      "    libxcb-1.13                |    h7f98852_1004         391 KB  conda-forge\n",
      "    matplotlib-3.3.2           |                0           6 KB  conda-forge\n",
      "    matplotlib-base-3.3.2      |   py39h98787fa_1         6.7 MB  conda-forge\n",
      "    openjpeg-2.5.0             |       hfec8fc6_2         344 KB  conda-forge\n",
      "    pillow-9.4.0               |   py39h7207d5c_2        44.3 MB  conda-forge\n",
      "    pthread-stubs-0.4          |    h36c2ea0_1001           5 KB  conda-forge\n",
      "    xorg-libxau-1.0.9          |       h7f98852_0          13 KB  conda-forge\n",
      "    xorg-libxdmcp-1.1.3        |       h7f98852_0          19 KB  conda-forge\n",
      "    zstd-1.5.2                 |       h3eb15da_6         410 KB  conda-forge\n",
      "    ------------------------------------------------------------\n",
      "                                           Total:        54.9 MB\n",
      "\n",
      "The following NEW packages will be INSTALLED:\n",
      "\n",
      "  cycler             conda-forge/noarch::cycler-0.11.0-pyhd8ed1ab_0\n",
      "  freetype           conda-forge/linux-64::freetype-2.12.1-hca18f0e_1\n",
      "  kiwisolver         conda-forge/linux-64::kiwisolver-1.4.4-py39hf939315_1\n",
      "  lcms2              conda-forge/linux-64::lcms2-2.15-haa2dc70_1\n",
      "  lerc               conda-forge/linux-64::lerc-4.0.0-h27087fc_0\n",
      "  libdeflate         conda-forge/linux-64::libdeflate-1.17-h0b41bf4_0\n",
      "  libjpeg-turbo      conda-forge/linux-64::libjpeg-turbo-2.1.5.1-h0b41bf4_0\n",
      "  libpng             conda-forge/linux-64::libpng-1.6.39-h753d276_0\n",
      "  libtiff            conda-forge/linux-64::libtiff-4.5.0-hddfeb54_5\n",
      "  libwebp-base       conda-forge/linux-64::libwebp-base-1.2.4-h166bdaf_0\n",
      "  libxcb             conda-forge/linux-64::libxcb-1.13-h7f98852_1004\n",
      "  matplotlib         conda-forge/linux-64::matplotlib-3.3.2-0\n",
      "  matplotlib-base    conda-forge/linux-64::matplotlib-base-3.3.2-py39h98787fa_1\n",
      "  openjpeg           conda-forge/linux-64::openjpeg-2.5.0-hfec8fc6_2\n",
      "  pillow             conda-forge/linux-64::pillow-9.4.0-py39h7207d5c_2\n",
      "  pthread-stubs      conda-forge/linux-64::pthread-stubs-0.4-h36c2ea0_1001\n",
      "  xorg-libxau        conda-forge/linux-64::xorg-libxau-1.0.9-h7f98852_0\n",
      "  xorg-libxdmcp      conda-forge/linux-64::xorg-libxdmcp-1.1.3-h7f98852_0\n",
      "  zstd               conda-forge/linux-64::zstd-1.5.2-h3eb15da_6\n",
      "\n",
      "\n",
      "\n",
      "Downloading and Extracting Packages\n",
      "libwebp-base-1.2.4   | 404 KB    | ##################################### | 100% \n",
      "xorg-libxdmcp-1.1.3  | 19 KB     | ##################################### | 100% \n",
      "libxcb-1.13          | 391 KB    | ##################################### | 100% \n",
      "lerc-4.0.0           | 275 KB    | ##################################### | 100% \n",
      "kiwisolver-1.4.4     | 76 KB     | ##################################### | 100% \n",
      "cycler-0.11.0        | 10 KB     | ##################################### | 100% \n",
      "libjpeg-turbo-2.1.5. | 479 KB    | ##################################### | 100% \n",
      "freetype-2.12.1      | 611 KB    | ##################################### | 100% \n",
      "xorg-libxau-1.0.9    | 13 KB     | ##################################### | 100% \n",
      "zstd-1.5.2           | 410 KB    | ##################################### | 100% \n",
      "libtiff-4.5.0        | 397 KB    | ##################################### | 100% \n",
      "matplotlib-base-3.3. | 6.7 MB    | ##################################### | 100% \n",
      "pthread-stubs-0.4    | 5 KB      | ##################################### | 100% \n",
      "matplotlib-3.3.2     | 6 KB      | ##################################### | 100% \n",
      "libdeflate-1.17      | 63 KB     | ##################################### | 100% \n",
      "lcms2-2.15           | 236 KB    | ##################################### | 100% \n",
      "libpng-1.6.39        | 276 KB    | ##################################### | 100% \n",
      "openjpeg-2.5.0       | 344 KB    | ##################################### | 100% \n",
      "pillow-9.4.0         | 44.3 MB   | ##################################### | 100% \n",
      "Preparing transaction: done\n",
      "Verifying transaction: done\n",
      "Executing transaction: done\n",
      "\n",
      "Note: you may need to restart the kernel to use updated packages.\n"
     ]
    }
   ],
   "source": [
    "#Running in AWS SageMake Studio Lab requires installing modules\n",
    "\n",
    "%conda install matplotlib\n",
    "import matplotlib.pyplot as plt"
   ]
  },
  {
   "cell_type": "code",
   "execution_count": 2,
   "id": "81a6158f-d53a-471c-be4d-16fe4d1c38f5",
   "metadata": {
    "collapsed": true,
    "jupyter": {
     "outputs_hidden": true
    },
    "tags": []
   },
   "outputs": [
    {
     "name": "stdout",
     "output_type": "stream",
     "text": [
      "Collecting package metadata (current_repodata.json): done\n",
      "Solving environment: done\n",
      "\n",
      "\n",
      "==> WARNING: A newer version of conda exists. <==\n",
      "  current version: 4.10.3\n",
      "  latest version: 23.1.0\n",
      "\n",
      "Please update conda by running\n",
      "\n",
      "    $ conda update -n base conda\n",
      "\n",
      "\n",
      "\n",
      "## Package Plan ##\n",
      "\n",
      "  environment location: /home/studio-lab-user/.conda/envs/default\n",
      "\n",
      "  added / updated specs:\n",
      "    - scipy\n",
      "\n",
      "\n",
      "The following packages will be downloaded:\n",
      "\n",
      "    package                    |            build\n",
      "    ---------------------------|-----------------\n",
      "    brotlipy-0.7.0             |py39hb9d737c_1005         342 KB  conda-forge\n",
      "    ca-certificates-2022.12.7  |       ha878542_0         143 KB  conda-forge\n",
      "    certifi-2022.12.7          |     pyhd8ed1ab_0         147 KB  conda-forge\n",
      "    charset-normalizer-2.1.1   |     pyhd8ed1ab_0          36 KB  conda-forge\n",
      "    cryptography-39.0.2        |   py39h079d5ae_0         1.4 MB  conda-forge\n",
      "    libblas-3.9.0              |16_linux64_openblas          13 KB  conda-forge\n",
      "    libcblas-3.9.0             |16_linux64_openblas          13 KB  conda-forge\n",
      "    libgfortran-ng-12.2.0      |      h69a702a_19          22 KB  conda-forge\n",
      "    libgfortran5-12.2.0        |      h337968e_19         1.8 MB  conda-forge\n",
      "    liblapack-3.9.0            |16_linux64_openblas          13 KB  conda-forge\n",
      "    libopenblas-0.3.21         |pthreads_h78a6416_3        10.1 MB  conda-forge\n",
      "    numpy-1.24.2               |   py39h7360e5f_0         6.4 MB  conda-forge\n",
      "    openssl-3.0.8              |       h0b41bf4_0         2.5 MB  conda-forge\n",
      "    pooch-1.7.0                |     pyhd8ed1ab_0          49 KB  conda-forge\n",
      "    pyopenssl-23.0.0           |     pyhd8ed1ab_0         124 KB  conda-forge\n",
      "    pysocks-1.7.1              |     pyha2e5f31_6          19 KB  conda-forge\n",
      "    requests-2.28.2            |     pyhd8ed1ab_0          55 KB  conda-forge\n",
      "    scipy-1.10.1               |   py39h7360e5f_0        23.5 MB  conda-forge\n",
      "    urllib3-1.26.14            |     pyhd8ed1ab_0         110 KB  conda-forge\n",
      "    ------------------------------------------------------------\n",
      "                                           Total:        46.6 MB\n",
      "\n",
      "The following NEW packages will be INSTALLED:\n",
      "\n",
      "  brotlipy           conda-forge/linux-64::brotlipy-0.7.0-py39hb9d737c_1005\n",
      "  certifi            conda-forge/noarch::certifi-2022.12.7-pyhd8ed1ab_0\n",
      "  charset-normalizer conda-forge/noarch::charset-normalizer-2.1.1-pyhd8ed1ab_0\n",
      "  cryptography       conda-forge/linux-64::cryptography-39.0.2-py39h079d5ae_0\n",
      "  libblas            conda-forge/linux-64::libblas-3.9.0-16_linux64_openblas\n",
      "  libcblas           conda-forge/linux-64::libcblas-3.9.0-16_linux64_openblas\n",
      "  libgfortran-ng     conda-forge/linux-64::libgfortran-ng-12.2.0-h69a702a_19\n",
      "  libgfortran5       conda-forge/linux-64::libgfortran5-12.2.0-h337968e_19\n",
      "  liblapack          conda-forge/linux-64::liblapack-3.9.0-16_linux64_openblas\n",
      "  libopenblas        conda-forge/linux-64::libopenblas-0.3.21-pthreads_h78a6416_3\n",
      "  numpy              conda-forge/linux-64::numpy-1.24.2-py39h7360e5f_0\n",
      "  pooch              conda-forge/noarch::pooch-1.7.0-pyhd8ed1ab_0\n",
      "  pyopenssl          conda-forge/noarch::pyopenssl-23.0.0-pyhd8ed1ab_0\n",
      "  pysocks            conda-forge/noarch::pysocks-1.7.1-pyha2e5f31_6\n",
      "  requests           conda-forge/noarch::requests-2.28.2-pyhd8ed1ab_0\n",
      "  scipy              conda-forge/linux-64::scipy-1.10.1-py39h7360e5f_0\n",
      "  urllib3            conda-forge/noarch::urllib3-1.26.14-pyhd8ed1ab_0\n",
      "\n",
      "The following packages will be UPDATED:\n",
      "\n",
      "  ca-certificates                      2022.9.24-ha878542_0 --> 2022.12.7-ha878542_0\n",
      "  openssl                                  3.0.7-h166bdaf_0 --> 3.0.8-h0b41bf4_0\n",
      "\n",
      "\n",
      "\n",
      "Downloading and Extracting Packages\n",
      "pysocks-1.7.1        | 19 KB     | ##################################### | 100% \n",
      "liblapack-3.9.0      | 13 KB     | ##################################### | 100% \n",
      "cryptography-39.0.2  | 1.4 MB    | ##################################### | 100% \n",
      "brotlipy-0.7.0       | 342 KB    | ##################################### | 100% \n",
      "scipy-1.10.1         | 23.5 MB   | ##################################### | 100% \n",
      "pyopenssl-23.0.0     | 124 KB    | ##################################### | 100% \n",
      "openssl-3.0.8        | 2.5 MB    | ##################################### | 100% \n",
      "charset-normalizer-2 | 36 KB     | ##################################### | 100% \n",
      "libgfortran5-12.2.0  | 1.8 MB    | ##################################### | 100% \n",
      "libblas-3.9.0        | 13 KB     | ##################################### | 100% \n",
      "certifi-2022.12.7    | 147 KB    | ##################################### | 100% \n",
      "pooch-1.7.0          | 49 KB     | ##################################### | 100% \n",
      "numpy-1.24.2         | 6.4 MB    | ##################################### | 100% \n",
      "libgfortran-ng-12.2. | 22 KB     | ##################################### | 100% \n",
      "ca-certificates-2022 | 143 KB    | ##################################### | 100% \n",
      "requests-2.28.2      | 55 KB     | ##################################### | 100% \n",
      "libopenblas-0.3.21   | 10.1 MB   | ##################################### | 100% \n",
      "libcblas-3.9.0       | 13 KB     | ##################################### | 100% \n",
      "urllib3-1.26.14      | 110 KB    | ##################################### | 100% \n",
      "Preparing transaction: done\n",
      "Verifying transaction: done\n",
      "Executing transaction: done\n",
      "\n",
      "Note: you may need to restart the kernel to use updated packages.\n"
     ]
    }
   ],
   "source": [
    "%conda install scipy\n",
    "import scipy.io as spio"
   ]
  },
  {
   "cell_type": "code",
   "execution_count": 16,
   "id": "47222e93-8d96-42e8-9708-0a19bea2b7ef",
   "metadata": {},
   "outputs": [],
   "source": [
    " # import numpy\n",
    "import numpy as np"
   ]
  },
  {
   "cell_type": "code",
   "execution_count": 9,
   "id": "cc9ac021-3394-44de-8b16-67ff0ebc7c4d",
   "metadata": {
    "collapsed": true,
    "jupyter": {
     "outputs_hidden": true
    },
    "tags": []
   },
   "outputs": [
    {
     "name": "stdout",
     "output_type": "stream",
     "text": [
      "Collecting package metadata (current_repodata.json): done\n",
      "Solving environment: done\n",
      "\n",
      "\n",
      "==> WARNING: A newer version of conda exists. <==\n",
      "  current version: 4.10.3\n",
      "  latest version: 23.1.0\n",
      "\n",
      "Please update conda by running\n",
      "\n",
      "    $ conda update -n base conda\n",
      "\n",
      "\n",
      "\n",
      "## Package Plan ##\n",
      "\n",
      "  environment location: /home/studio-lab-user/.conda/envs/default\n",
      "\n",
      "  added / updated specs:\n",
      "    - pandas\n",
      "\n",
      "\n",
      "The following packages will be downloaded:\n",
      "\n",
      "    package                    |            build\n",
      "    ---------------------------|-----------------\n",
      "    pandas-1.5.3               |   py39h2ad29b5_0        11.4 MB  conda-forge\n",
      "    pytz-2022.7.1              |     pyhd8ed1ab_0         182 KB  conda-forge\n",
      "    ------------------------------------------------------------\n",
      "                                           Total:        11.6 MB\n",
      "\n",
      "The following NEW packages will be INSTALLED:\n",
      "\n",
      "  pandas             conda-forge/linux-64::pandas-1.5.3-py39h2ad29b5_0\n",
      "  pytz               conda-forge/noarch::pytz-2022.7.1-pyhd8ed1ab_0\n",
      "\n",
      "\n",
      "\n",
      "Downloading and Extracting Packages\n",
      "pytz-2022.7.1        | 182 KB    | ##################################### | 100% \n",
      "pandas-1.5.3         | 11.4 MB   | ##################################### | 100% \n",
      "Preparing transaction: done\n",
      "Verifying transaction: done\n",
      "Executing transaction: done\n",
      "\n",
      "Note: you may need to restart the kernel to use updated packages.\n"
     ]
    }
   ],
   "source": [
    "%conda install pandas\n",
    "import pandas as pd"
   ]
  },
  {
   "cell_type": "code",
   "execution_count": 3,
   "id": "308c82e7-969f-4083-bece-d0176c947dd5",
   "metadata": {},
   "outputs": [],
   "source": [
    "#This is just one file located in a local directory\n",
    "#change to match location of your ECG .mat file\n",
    "\n",
    "file_loc = 'Data/Test/delta_702_eyes_closed_1_raw_tsss_ECG_EOG.mat'\n",
    "mat = spio.loadmat(file_loc, squeeze_me=True)"
   ]
  },
  {
   "cell_type": "code",
   "execution_count": 28,
   "id": "d530e615-07ca-4041-bc3a-935b228a3fb8",
   "metadata": {},
   "outputs": [],
   "source": [
    "#converts to numpy arrays\n",
    "\n",
    "time_raw = mat['time_raw']\n",
    "data_ECG = mat['data_ECG']\n",
    "data_EOG = mat['data_EOG']"
   ]
  },
  {
   "cell_type": "code",
   "execution_count": 29,
   "id": "bdd2ed8f-312c-4cc9-be0b-e2a3ba915b37",
   "metadata": {},
   "outputs": [
    {
     "data": {
      "text/plain": [
       "array([0.00000000e+00, 2.77777778e-03, 5.55555556e-03, ...,\n",
       "       6.63880556e+02, 6.63883333e+02, 6.63886111e+02])"
      ]
     },
     "execution_count": 29,
     "metadata": {},
     "output_type": "execute_result"
    }
   ],
   "source": [
    "time_ECG = np.arange(data_ECG.size)/ 360\n",
    "time_ECG"
   ]
  },
  {
   "cell_type": "code",
   "execution_count": 32,
   "id": "02d4ee55-18c4-43e1-bd04-a0debf1519ad",
   "metadata": {},
   "outputs": [
    {
     "data": {
      "text/plain": [
       "0.3416666666666667"
      ]
     },
     "execution_count": 32,
     "metadata": {},
     "output_type": "execute_result"
    }
   ],
   "source": [
    "time_ECG[123]"
   ]
  },
  {
   "cell_type": "code",
   "execution_count": 37,
   "id": "633f5af2-cca8-41d8-ba55-d4a09c214b17",
   "metadata": {},
   "outputs": [],
   "source": [
    "#To plot a smaller window\n",
    "time_ECG_sample_1 = time_ECG[:16000]\n",
    "data_ECG_sample_1 = data_ECG[:16000]"
   ]
  },
  {
   "cell_type": "code",
   "execution_count": 38,
   "id": "d131f2a5-003e-4f67-b605-ef4c91943038",
   "metadata": {
    "tags": []
   },
   "outputs": [
    {
     "data": {
      "image/png": "[encoded data removed]",
      "text/plain": [
       "<Figure size 640x480 with 1 Axes>"
      ]
     },
     "metadata": {},
     "output_type": "display_data"
    }
   ],
   "source": [
    "  \n",
    "# plotting time and ecg model\n",
    "plt.plot(time_ECG_sample_1, data_ECG_sample_1)\n",
    "plt.xlabel(\"time in seconds\")\n",
    "plt.ylabel(\"ECG in milli Volts\")\n",
    "\n",
    "# display\n",
    "plt.show()"
   ]
  },
  {
   "cell_type": "code",
   "execution_count": null,
   "id": "7e70ad45-50e1-4f6c-a9e1-e92fc7215231",
   "metadata": {},
   "outputs": [],
   "source": []
  }
 ],
 "metadata": {
  "kernelspec": {
   "display_name": "default:Python",
   "language": "python",
   "name": "conda-env-default-py"
  },
  "language_info": {
   "codemirror_mode": {
    "name": "ipython",
    "version": 3
   },
   "file_extension": ".py",
   "mimetype": "text/x-python",
   "name": "python",
   "nbconvert_exporter": "python",
   "pygments_lexer": "ipython3",
   "version": "3.9.13"
  }
 },
 "nbformat": 4,
 "nbformat_minor": 5
}
